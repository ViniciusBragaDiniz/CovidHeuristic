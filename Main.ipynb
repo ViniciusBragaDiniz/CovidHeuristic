{
 "cells": [
  {
   "cell_type": "code",
   "execution_count": 1,
   "metadata": {},
   "outputs": [
    {
     "name": "stdout",
     "output_type": "stream",
     "text": "importing Jupyter notebook from BRKGA.ipynb\n"
    }
   ],
   "source": "import pandas as pd\nimport numpy as np\nimport import_ipynb\nimport BRKGA as brkga"
  },
  {
   "cell_type": "code",
   "execution_count": 2,
   "metadata": {},
   "outputs": [],
   "source": "dem = pd.read_csv(\"AnalisePopulacionalTratada.csv\",index_col=0)\ndem = dem.reindex(index = sorted(dem.index))"
  },
  {
   "cell_type": "code",
   "execution_count": 3,
   "metadata": {
    "scrolled": true
   },
   "outputs": [],
   "source": "prox = pd.read_csv(\"Proximidade.csv\",dtype=int, index_col=0)\nprox.columns = prox.columns.to_numpy(int)\nprox = prox.reindex(index = sorted(prox.index), columns=sorted(prox.columns))"
  },
  {
   "cell_type": "markdown",
   "metadata": {},
   "source": "cover_list = []\nfor i in prox.index:\n    cover = 0\n    for j in prox.index:\n        cover += prox.loc[i][j]*dem.loc[i][\"Population\"]\n    cover_list.append(cover)"
  },
  {
   "cell_type": "code",
   "execution_count": 4,
   "metadata": {},
   "outputs": [],
   "source": "_relation = pd.Series(np.random.randint(0,92,100),index=range(0,10))\nfacilities_cost = np.random.randint(1000000,10000000,1000)\nfacilities_cover = np.random.randint(100,1000,100)"
  },
  {
   "cell_type": "code",
   "execution_count": 9,
   "metadata": {},
   "outputs": [],
   "source": "x = brkga.BRKGA(facilities_cover,facilities_cost,80,100,2,2,100)"
  },
  {
   "cell_type": "code",
   "execution_count": null,
   "metadata": {
    "scrolled": true
   },
   "outputs": [],
   "source": "x.Solve()"
  },
  {
   "cell_type": "code",
   "execution_count": null,
   "metadata": {},
   "outputs": [],
   "source": ""
  }
 ],
 "metadata": {
  "kernelspec": {
   "display_name": "Python 2",
   "language": "python",
   "name": "python2"
  },
  "language_info": {
   "codemirror_mode": {
    "name": "ipython",
    "version": 2
   },
   "file_extension": ".py",
   "mimetype": "text/x-python",
   "name": "python",
   "nbconvert_exporter": "python",
   "pygments_lexer": "ipython2",
   "version": "2.7.17"
  }
 },
 "nbformat": 4,
 "nbformat_minor": 4
}
