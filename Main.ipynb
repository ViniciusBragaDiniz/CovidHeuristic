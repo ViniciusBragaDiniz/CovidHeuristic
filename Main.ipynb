{
 "cells": [
  {
   "cell_type": "code",
   "execution_count": 1,
   "metadata": {},
   "outputs": [
    {
     "name": "stdout",
     "output_type": "stream",
     "text": "importing Jupyter notebook from BRKGA.ipynb\n"
    }
   ],
   "source": "import pandas as pd\nimport numpy as np\nimport import_ipynb\nimport BRKGA as brkga"
  },
  {
   "cell_type": "code",
   "execution_count": 2,
   "metadata": {},
   "outputs": [],
   "source": "dem = pd.read_csv(\"AnalisePopulacionalTratada.csv\",index_col=0)\ndem = dem.reindex(index = sorted(dem.index))"
  },
  {
   "cell_type": "code",
   "execution_count": 3,
   "metadata": {
    "scrolled": true
   },
   "outputs": [],
   "source": "prox = pd.read_csv(\"Proximidade.csv\",dtype=int, index_col=0)\nprox.columns = prox.columns.to_numpy(int)\nprox = prox.reindex(index = sorted(prox.index), columns=sorted(prox.columns))"
  },
  {
   "cell_type": "markdown",
   "metadata": {},
   "source": "cover_list = []\nfor i in prox.index:\n    cover = 0\n    for j in prox.index:\n        cover += prox.loc[i][j]*dem.loc[i][\"Population\"]\n    cover_list.append(cover)"
  },
  {
   "cell_type": "code",
   "execution_count": 36,
   "metadata": {},
   "outputs": [],
   "source": "_relation = pd.Series(np.random.randint(0,92,10),index=range(0,10))\nfacilities_cost = np.random.randint(1000000,10000000,10)\nfacilities_cover = np.random.randint(100,1000,10)"
  },
  {
   "cell_type": "code",
   "execution_count": 39,
   "metadata": {},
   "outputs": [],
   "source": "x = brkga.BRKGA(facilities_cover,facilities_cost,8,50,2,2,10,False)"
  },
  {
   "cell_type": "code",
   "execution_count": 40,
   "metadata": {
    "scrolled": true
   },
   "outputs": [
    {
     "data": {
      "text/plain": "([4132,\n  3779,\n  4132,\n  3779,\n  4132,\n  3779,\n  4132,\n  3779,\n  4132,\n  3779,\n  4132,\n  3779,\n  4132,\n  3779,\n  4132,\n  3779,\n  4132,\n  3779,\n  4132,\n  3779],\n [[3, 0, 6, 5, 9, 4, 1, 7],\n  [9, 0, 6, 7, 1, 3, 4, 5],\n  [3, 0, 6, 4, 9, 5, 1, 7],\n  [1, 0, 6, 7, 9, 3, 4, 5],\n  [1, 7, 6, 0, 9, 3, 4, 5],\n  [3, 6, 0, 5, 4, 9, 1, 7],\n  [0, 6, 9, 5, 4, 3, 1, 7],\n  [3, 6, 0, 9, 4, 5, 1, 7],\n  [5, 9, 6, 3, 4, 0, 1, 7],\n  [7, 1, 0, 9, 4, 3, 6, 5],\n  [0, 1, 7, 9, 4, 3, 6, 5],\n  [5, 6, 9, 3, 4, 0, 1, 7],\n  [1, 9, 5, 0, 7, 3, 4, 6],\n  [5, 6, 0, 3, 4, 7, 1, 9],\n  [1, 3, 7, 0, 6, 4, 5, 9],\n  [1, 9, 4, 5, 6, 3, 0, 7],\n  [1, 6, 5, 0, 3, 4, 9, 7],\n  [5, 9, 0, 1, 6, 3, 4, 7],\n  [5, 6, 3, 1, 7, 4, 0, 9],\n  [3, 6, 0, 4, 9, 5, 1, 7]])"
     },
     "execution_count": 40,
     "metadata": {},
     "output_type": "execute_result"
    }
   ],
   "source": "x.Solve()"
  },
  {
   "cell_type": "code",
   "execution_count": null,
   "metadata": {},
   "outputs": [],
   "source": ""
  }
 ],
 "metadata": {
  "kernelspec": {
   "display_name": "Python 2",
   "language": "python",
   "name": "python2"
  },
  "language_info": {
   "codemirror_mode": {
    "name": "ipython",
    "version": 2
   },
   "file_extension": ".py",
   "mimetype": "text/x-python",
   "name": "python",
   "nbconvert_exporter": "python",
   "pygments_lexer": "ipython2",
   "version": "2.7.17"
  }
 },
 "nbformat": 4,
 "nbformat_minor": 4
}
