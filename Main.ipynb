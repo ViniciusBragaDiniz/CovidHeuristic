{
 "cells": [
  {
   "cell_type": "code",
   "execution_count": 219,
   "metadata": {},
   "outputs": [],
   "source": "import pandas as pd\nimport numpy as np\nimport import_ipynb\nimport matplotlib.pyplot as plt\nimport BRKGA as brkga"
  },
  {
   "cell_type": "code",
   "execution_count": 220,
   "metadata": {},
   "outputs": [],
   "source": "dem = pd.read_csv(\"Instances/AnalisePopulacionalTratada.csv\",index_col=0)\ndem = dem.reindex(index = sorted(dem.index))"
  },
  {
   "cell_type": "code",
   "execution_count": 221,
   "metadata": {
    "scrolled": true
   },
   "outputs": [],
   "source": "prox = pd.read_csv(\"Instances/Proximidade.csv\",dtype=int, index_col=0)\nprox.columns = prox.columns.to_numpy(int)\nprox = prox.reindex(index = sorted(prox.index), columns=sorted(prox.columns))"
  },
  {
   "cell_type": "code",
   "execution_count": 248,
   "metadata": {},
   "outputs": [],
   "source": "_relation = pd.read_csv(\"Instances/hospitalCidades.csv\",index_col=0,header=None,squeeze=True)"
  },
  {
   "cell_type": "code",
   "execution_count": 249,
   "metadata": {},
   "outputs": [],
   "source": "params=pd.DataFrame([len(_relation),8,20,4,2,10,False],[\"N\",\"M\",\"P\",\"Elite\",\"Mutant\",\"K\",\"Type\"],[\"Value\"])"
  },
  {
   "cell_type": "code",
   "execution_count": 250,
   "metadata": {},
   "outputs": [],
   "source": "facilities_cost = np.random.random(params.loc[\"N\"][\"Value\"])*100000\nfacilities_cover = np.random.random(params.loc[\"N\"][\"Value\"])*1000"
  },
  {
   "cell_type": "code",
   "execution_count": 251,
   "metadata": {},
   "outputs": [],
   "source": "for i in range(0,params.loc[\"N\"][\"Value\"]):\n    facilities_cover[i]= facilities_cover[i]/dem[\"Urban Density (People/Km2)\"][i]*_relation.value_counts()[_relation[i]]"
  },
  {
   "cell_type": "code",
   "execution_count": 252,
   "metadata": {},
   "outputs": [],
   "source": "Heuristic = brkga.BRKGA(facilities_cover,facilities_cost,\n                        params.loc[\"M\"][\"Value\"],params.loc[\"P\"][\"Value\"],\n                        params.loc[\"Elite\"][\"Value\"],params.loc[\"Mutant\"][\"Value\"],\n                        params.loc[\"K\"][\"Value\"],params.loc[\"Type\"][\"Value\"])"
  },
  {
   "cell_type": "code",
   "execution_count": 253,
   "metadata": {
    "scrolled": true
   },
   "outputs": [],
   "source": "solutions, facilities = Heuristic.Solve()"
  },
  {
   "cell_type": "code",
   "execution_count": 254,
   "metadata": {},
   "outputs": [],
   "source": "best_solutions = Heuristic.getObjectiveEvolution()"
  },
  {
   "cell_type": "code",
   "execution_count": 255,
   "metadata": {},
   "outputs": [
    {
     "data": {
      "image/png": "[encoded data removed]",
      "text/plain": "<Figure size 360x360 with 1 Axes>"
     },
     "metadata": {
      "needs_background": "light"
     },
     "output_type": "display_data"
    }
   ],
   "source": "Fig = plt.figure(figsize=(5,5),)\nplt.plot(range(0,params.loc[\"K\"][\"Value\"]),pd.Series(best_solutions)/1000,figure=Fig)\nplt.xlabel(\"Iterations\")\nplt.ylabel(\"Obj. Value (1/1000)\")\nplt.title(\"Evolution of The Objective Value\")\nFig.savefig(\"Exit/Evolution.png\")"
  },
  {
   "cell_type": "code",
   "execution_count": 256,
   "metadata": {},
   "outputs": [],
   "source": "exit_data = pd.DataFrame(facilities)\nexit_data[\"sol_value\"] = solutions\nexit_data.to_csv(\"Exit/Solutions.csv\")"
  }
 ],
 "metadata": {
  "kernelspec": {
   "display_name": "Python 2",
   "language": "python",
   "name": "python2"
  },
  "language_info": {
   "codemirror_mode": {
    "name": "ipython",
    "version": 2
   },
   "file_extension": ".py",
   "mimetype": "text/x-python",
   "name": "python",
   "nbconvert_exporter": "python",
   "pygments_lexer": "ipython2",
   "version": "2.7.17"
  }
 },
 "nbformat": 4,
 "nbformat_minor": 4
}
