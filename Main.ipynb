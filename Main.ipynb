{
 "cells": [
  {
   "cell_type": "code",
   "execution_count": 73,
   "metadata": {},
   "outputs": [],
   "source": "import pandas as pd\nimport numpy as np\nimport import_ipynb\nimport matplotlib.pyplot as plt\nimport BRKGA as brkga"
  },
  {
   "cell_type": "code",
   "execution_count": 74,
   "metadata": {},
   "outputs": [],
   "source": "dem = pd.read_csv(\"Instances/DemographicData.csv\",index_col=0)\ndem = dem.reindex(index = sorted(dem.index))"
  },
  {
   "cell_type": "code",
   "execution_count": 75,
   "metadata": {
    "scrolled": true
   },
   "outputs": [],
   "source": "prox = pd.read_csv(\"Instances/Neighboorhood.csv\",dtype=int, index_col=0)\nprox.columns = prox.columns.to_numpy(int)\nprox = prox.reindex(index = sorted(prox.index), columns=sorted(prox.columns))"
  },
  {
   "cell_type": "code",
   "execution_count": 76,
   "metadata": {},
   "outputs": [],
   "source": "params = pd.read_csv(\"Input/Parameters.csv\", index_col=0,dtype={\"N\":int,\"M\":int,\"P\":int,\"Elite\":int,\"Mutant\":int,\n                                                                \"K\":int, \"S\":int,\"Type\":bool})"
  },
  {
   "cell_type": "code",
   "execution_count": 125,
   "metadata": {},
   "outputs": [],
   "source": "_relation = pd.read_csv(\"Input/Facilities.csv\",index_col=0)\n\nfacilities_cost = []\nfacilities_cover = []\n\nfor i in _relation[\"Cost\"].values:\n    facilities_cost.append(i)\n\nfor i in _relation[\"Cover\"].values:\n    facilities_cover.append(i)\n\nfacilities_cost = _relation[\"Cost\"].values\nfacilities_cover = _relation[\"Cover\"].values"
  },
  {
   "cell_type": "code",
   "execution_count": 115,
   "metadata": {},
   "outputs": [],
   "source": "for i in range(0,params[\"N\"][\"Value\"]):\n    facilities_cover[i]= facilities_cover[i]/dem[\"Urban Density (People/Km2)\"][i]*_relation[\"City\"].value_counts()[_relation[\"City\"][i]]\n    facilities_cost[i] = facilities_cost[i]*_relation[\"City\"].value_counts()[_relation[\"City\"][i]]/dem[\"Urban Density (People/Km2)\"][i]"
  },
  {
   "cell_type": "code",
   "execution_count": 116,
   "metadata": {},
   "outputs": [],
   "source": "Heuristic = brkga.BRKGA(facilities_cover,facilities_cost,\n                        params[\"M\"][\"Value\"],params[\"P\"][\"Value\"],\n                        params[\"Elite\"][\"Value\"],params[\"Mutant\"][\"Value\"],\n                        params[\"K\"][\"Value\"],params[\"Type\"][\"Value\"])"
  },
  {
   "cell_type": "code",
   "execution_count": 117,
   "metadata": {
    "scrolled": true
   },
   "outputs": [],
   "source": "solutions, facilities = Heuristic.Solve()"
  },
  {
   "cell_type": "code",
   "execution_count": 118,
   "metadata": {},
   "outputs": [],
   "source": "best_solutions = Heuristic.getObjectiveEvolution()"
  },
  {
   "cell_type": "code",
   "execution_count": 119,
   "metadata": {},
   "outputs": [
    {
     "data": {
      "image/png": "[encoded data removed]",
      "text/plain": "<Figure size 360x360 with 1 Axes>"
     },
     "metadata": {
      "needs_background": "light"
     },
     "output_type": "display_data"
    }
   ],
   "source": "Fig = plt.figure(figsize=(5,5),)\nplt.plot(range(0,params[\"K\"][\"Value\"]),pd.Series(best_solutions),figure=Fig)\nplt.xlabel(\"Iterations\")\nplt.ylabel(\"Obj. Value (1/1000)\")\nplt.title(\"Evolution of The Objective Value\")\nFig.savefig(\"Exit/Evolution\"+str(params[\"S\"][\"Value\"])+\".png\")"
  },
  {
   "cell_type": "code",
   "execution_count": 132,
   "metadata": {},
   "outputs": [],
   "source": "exit_data = pd.DataFrame(facilities)\nexit_data[\"obj_value\"] = solutions\nexit_data[\"final_cost\"] = 0\nexit_data[\"final_cover\"] = 0\n\nfor i in exit_data.index:\n    cover = 0\n    cost = 0\n    for j in exit_data.loc[i][:params[\"M\"][\"Value\"]]:\n        cost += _relation[\"Cost\"][j]\n        cover += _relation[\"Cover\"][j]\n        \n    exit_data.loc[i][\"final_cost\"] = cost\n    exit_data.loc[i][\"final_cover\"] = cover\n    \nexit_data = exit_data.sort_values(\"obj_value\",ascending=False)    \nexit_data.to_csv(\"Exit/Solution\"+str(params[\"S\"][\"Value\"])+\".csv\")"
  }
 ],
 "metadata": {
  "kernelspec": {
   "display_name": "Python 2",
   "language": "python",
   "name": "python2"
  },
  "language_info": {
   "codemirror_mode": {
    "name": "ipython",
    "version": 2
   },
   "file_extension": ".py",
   "mimetype": "text/x-python",
   "name": "python",
   "nbconvert_exporter": "python",
   "pygments_lexer": "ipython2",
   "version": "2.7.17"
  }
 },
 "nbformat": 4,
 "nbformat_minor": 4
}
