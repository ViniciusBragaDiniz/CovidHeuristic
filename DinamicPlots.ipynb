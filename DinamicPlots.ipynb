{
 "cells": [
  {
   "cell_type": "code",
   "execution_count": 1,
   "metadata": {},
   "outputs": [],
   "source": "import numpy as np\nimport pandas as pd\nimport seaborn as sns\nfrom pandas.plotting import register_matplotlib_converters\nimport matplotlib.pyplot as plt\nregister_matplotlib_converters()\nplt.style.use('seaborn')"
  },
  {
   "cell_type": "code",
   "execution_count": 72,
   "metadata": {},
   "outputs": [],
   "source": "class DinamicPlots:\n    \n    \"\"\"\n    This class purpose is to create comparison plots or\n    more specific graphs.\n    \"\"\"\n    \n    BR_Cases_By_State = None\n    BR_Cases_By_City = None\n    BR_Cases_Total = None\n    states = None\n    cities = None\n    \n    def __init__(self,data):\n        \"\"\"\n        data -> a DataLoad class instance\n        \n        Example:\n        \n        dp = DinamicPlots(DataLoad())\n        \"\"\"\n        self.BR_Cases_By_State = data.BR_Cases_By_State\n        self.BR_Cases_By_City = data.BR_Cases_By_City\n        self.BR_Cases_Total = data.BR_Cases_Total\n        self.states = data.states\n        self.cities = data.cities\n               \n            \n    def ComparisonStateBar(self,state1,state2,deaths=False,hash_value=\"\"):\n        hash_value = hash_value.decode('utf-8')\n        \n        _temp = self.BR_Cases_By_State[self.BR_Cases_By_State[\"state\"].values == state1].copy()\n        _temp2 = self.BR_Cases_By_State[self.BR_Cases_By_State[\"state\"].values == state2].copy()\n    \n        legend = \"States\"\n        title = state1+\" x \"+state2\n        \n        if deaths == True:\n            _temp = _temp[_temp[\"deaths\"] > 0]\n            _temp2 = _temp2[_temp2[\"deaths\"] > 0]\n            \n            _type = \"deaths\"\n            path = u\"__temp/__custom/__cdbs/cdbs_\"+hash_value+\".png\"\n        else:\n            _type = \"totalCases\"\n            path = u\"__temp/__custom/__cibs/cibs_\"+hash_value+\".png\"\n        \n        lenght = len(_temp.index)\n        lenght2 = len(_temp2.index)\n        \n        _temp.loc[:,\"date\"] = range(lenght)\n        _temp2.loc[:,\"date\"] = range(lenght2)\n        \n        _temp.index = range(lenght)\n        _temp2.index = range(lenght2)\n        \n        comp = lenght if lenght<=lenght2 else lenght2\n        \n        #Create the plots\n        Figure, Axes = plt.subplots(figsize=(8,8))\n\n        if comp > 0:\n            sns.barplot(\"date\",_type,\"state\",data=pd.concat([_temp[:comp],_temp2[:comp]]),palette='inferno')\n            Axes.plot(\"date\",_type,data=_temp.loc[:comp-1],color='blue',label=\"_\")\n            Axes.plot(\"date\",_type,data=_temp2.loc[:comp-1],color='red',label=\"_\")\n        elif lenght >0:\n            sns.barplot(\"date\",_type,\"state\",data=_temp,palette='inferno')\n            Axes.plot(\"date\",_type,data=_temp.loc[:comp-1],color='blue',label=\"_\")\n        elif lenght2 >0:\n            sns.barplot(\"date\",_type,\"state\",data=_temp2,palette='inferno')\n            Axes.plot(\"date\",_type,data=_temp2.loc[:comp-1],color='red',label=\"_\")\n        \n        Axes.legend(fontsize=12).set_title(legend,prop={\"size\":14})\n        Axes.set_title(state1+\" x \"+state2,fontsize=20)\n        Axes.set_ylabel(\"Number\",labelpad=10,fontsize=14)\n        Axes.set_xlabel(\"Days Since First Infected\",labelpad=10,fontsize=14)\n\n        plt.xticks(range(comp)[::comp/4],range(comp)[::comp/4])\n        \n        Figure.tight_layout()\n        Figure.savefig(path)\n        Figure.clear()\n        \n        plt.close()\n        Axes.cla()\n        del lenght\n        del lenght2\n        del _temp\n        del _temp2\n        del comp\n        \n    def ComparisonMultipleStatesBar(self,states,deaths=False,hash_value=\"\"):\n        hash_value = hash_value.decode('utf-8')\n        \n        states_list = []\n        \n        for i in states:\n            states_list.append(self.BR_Cases_By_State[self.BR_Cases_By_State[\"state\"].values == i].copy())\n    \n        legend = \"States\"\n        title = \"Comparison States\"\n        \n        if deaths == True:\n            for i in states_list:\n                i = i[i[\"deaths\"] > 0]\n                i = i[i[\"deaths\"] > 0]\n            \n            _type = \"deaths\"\n            path = u\"__temp/__custom/__mcdbs/mcdbs_\"+hash_value+\".png\"\n            \n            xlabel = \"Days Since First Death Case\"\n        else:\n            _type = \"totalCases\"\n            path = u\"__temp/__custom/__mcibs/mcibs_\"+hash_value+\".png\"\n        \n            xlabel = \"Days Since First Infected\"\n        Figure, Axes = plt.subplots(figsize=(8,8))\n        \n        aux = 0\n        for i in states_list:\n            lenght = len(i.index)\n            i.loc[:,\"date\"] = range(lenght)\n            i.index = range(lenght)\n\n            Axes.plot(\"date\",_type,data=i,label=states[aux])\n            aux+=1\n        \n        Axes.legend(fontsize=12).set_title(legend,prop={\"size\":14})\n        Axes.set_title(\"Comparison Multiple States\",fontsize=20)\n        Axes.set_ylabel(\"Number\",labelpad=10,fontsize=14)\n        Axes.set_xlabel(xlabel,labelpad=10,fontsize=14)\n        \n        Figure.tight_layout()\n        Figure.savefig(path)\n        Figure.clear()\n        \n        plt.close()\n        Axes.cla()\n        del states_list\n        \n        \n    def ComparisonCityBar(self,city1,city2,deaths=False,hash_value=\"\"):\n        city1 = city1.decode('utf-8')\n        city2 = city2.decode('utf-8')\n        hash_value = hash_value.decode('utf-8')\n        \n        _temp = self.BR_Cases_By_City[self.BR_Cases_By_City[\"city\"].values == city1].copy()\n        _temp2 = self.BR_Cases_By_City[self.BR_Cases_By_City[\"city\"].values == city2].copy()\n        \n        legend = \"Cities\"\n        title = city1+\" x \"+city2\n        \n        if deaths == True:\n            _temp = _temp[_temp[\"deaths\"] > 0]\n            _temp2 = _temp2[_temp2[\"deaths\"] > 0]\n            \n            _type = \"deaths\"\n            path = u\"__temp/__custom/__cdbc/cdbc_\"+hash_value+\".png\"\n            \n            xlabel = \"Days Since First Death Case\"\n        else:\n            _type = \"totalCases\"\n            path = u\"__temp/__custom/__cibc/cibc_\"+hash_value+\".png\"\n            \n            xlabel = \"Days Since First Infected\"\n        \n        lenght = len(_temp.index)\n        lenght2 = len(_temp2.index)\n        \n        _temp.loc[:,\"date\"] = range(lenght)\n        _temp2.loc[:,\"date\"] = range(lenght2)\n\n        _temp.index = range(lenght)\n        _temp2.index = range(lenght2)\n        \n        comp = lenght if lenght<=lenght2 else lenght2\n        \n        #Create the plots\n        Figure, Axes = plt.subplots(figsize=(8,8))\n\n        if comp > 0:\n            sns.barplot(\"date\",_type,\"city\",data=pd.concat([_temp[:comp],_temp2[:comp]]),palette='inferno')\n            Axes.plot(\"date\",_type,data=_temp.loc[:comp-1],color='blue',label=\"_\")\n            Axes.plot(\"date\",_type,data=_temp2.loc[:comp-1],color='red',label=\"_\")\n        elif lenght >0:\n            sns.barplot(\"date\",_type,\"city\",data=_temp,palette='inferno')\n            Axes.plot(\"date\",_type,data=_temp.loc[:comp-1],color='blue',label=\"_\")\n        elif lenght2 >0:\n            sns.barplot(\"date\",_type,\"city\",data=_temp2,palette='inferno')\n            Axes.plot(\"date\",_type,data=_temp2.loc[:comp-1],color='red',label=\"_\")\n        \n        Axes.legend(fontsize=12).set_title(legend,prop={\"size\":14})\n        Axes.set_title(city1+\" x \"+city2,fontsize=20)\n        Axes.set_ylabel(\"Number\",labelpad=10,fontsize=14)\n        Axes.set_xlabel(xlabel,labelpad=10,fontsize=14)\n\n        plt.xticks(range(comp)[::comp/4],range(comp)[::comp/4])\n        \n        Figure.tight_layout()\n        Figure.savefig(path)\n        Figure.clear()\n        \n        plt.close()\n        Axes.cla()\n        del lenght\n        del lenght2\n        del _temp\n        del _temp2\n        del comp\n\n    \n    def HeatmapState(self,states_list,deaths=False,hash_value=\"\"):\n        df = pd.DataFrame()\n        \n        bol_expr1 = self.BR_Cases_By_State[\"state\"] == states_list[0]\n        \n        if deaths == True:\n            bol_expr2 = self.BR_Cases_By_State[\"deaths\"] > 0\n            title = \"Days Since First Death Case\"\n            path = \"__temp/__custom/hdbs_\"+hash_value+\".png\"\n            gtype = 'deaths'\n        else:\n            bol_expr2 = True\n            title = \"Days Since First Infected\"\n            path = \"__temp/__custom/hibs_\"+hash_value+\".png\"\n            gtype = 'totalCases'\n        \n        bol = bol_expr1 & bol_expr2\n        comp = len(self.BR_Cases_By_State[bol])\n        \n        for i in states_list[1:]:\n            bol_expr1 = self.BR_Cases_By_State[\"state\"] == i\n            bol = bol_expr1 & bol_expr2\n            \n            lenght = len(self.BR_Cases_By_State[bol])\n            comp = lenght if lenght < comp else comp\n        \n        for i in states_list:\n            bol_expr1 = self.BR_Cases_By_State[\"state\"] == i\n            bol = bol_expr1 & bol_expr2\n            \n            _temp = self.BR_Cases_By_State[bol].copy()\n            _temp[\"date\"] = range(len(_temp.date))\n            df = df.append(_temp.loc[_temp.index[:comp]])\n            \n        pivot = df.pivot('state','date',gtype)\n        \n        Figure, Axes = plt.subplots(figsize=(8,8))\n        sns.heatmap(pivot,cmap=\"inferno_r\",fmt=\"\",ax=Axes,annot=True,annot_kws={'rotation':90})\n        Axes.set_xlabel(title,fontsize=14)\n        Axes.set_ylabel(\"_\")\n        Axes.tick_params(rotation=0)\n        \n        Figure.tight_layout()\n        Figure.savefig(path)\n        \n        del df\n        del lenght\n        del comp\n        del _temp\n        Axes.cla()\n        Figure.clear()\n        plt.close()\n        del pivot\n\n    def HeatmapCity(self,cities_list,deaths=False,hash_value=\"\"):\n        df = pd.DataFrame()\n        \n        bol_expr1 = self.BR_Cases_By_City[\"city\"] == cities_list[0].decode('utf-8')\n        \n        if deaths == True:\n            bol_expr2 = self.BR_Cases_By_City[\"deaths\"]>0\n            title = \"Days Since First Death Case\"\n            path = \"__temp/__custom/hdbc_\"+hash_value+\".png\"\n            gtype = 'deaths'\n        else:\n            bol_expr2 = True\n            title = \"Days Since First Infected\"\n            path = \"__temp/__custom/hibc_\"+hash_value+\".png\"\n            gtype = 'totalCases'\n            \n        bol = bol_expr1 & bol_expr2\n        comp = len(self.BR_Cases_By_City[bol])\n        \n        for i in cities_list[1:]:\n            bol_expr1 = self.BR_Cases_By_City[\"city\"].values == i.decode('utf-8')\n            bol = bol_expr1 & bol_expr2\n            \n            lenght = len(self.BR_Cases_By_City[bol])\n            \n        comp = lenght if lenght < comp else comp\n\n        for i in cities_list:\n            bol_expr1 = self.BR_Cases_By_City[\"city\"].values == i.decode('utf-8')\n            bol = bol_expr1 & bol_expr2\n            \n            _temp = self.BR_Cases_By_City[bol].copy()\n            _temp[\"date\"] = range(len(_temp.date))\n            df = df.append(_temp.loc[_temp.index[:comp]])\n\n        pivot = df.pivot('city','date',gtype)\n\n        Figure, Axes = plt.subplots(figsize=(8,8))\n        sns.heatmap(pivot,cmap=\"inferno_r\",fmt=\"\",ax=Axes,annot=True,annot_kws={'rotation':90})\n        Axes.set_xlabel(title,fontsize=14)\n        Axes.set_ylabel(\"_\")\n        Axes.tick_params(rotation=0)\n        \n        Figure.tight_layout()\n        Figure.savefig(path)\n        \n        del df\n        del lenght\n        del comp\n        del _temp\n        Axes.cla()\n        Figure.clear()\n        plt.close()\n        del pivot\n    \n    def HeatmapDeathsByCity(self,cities_list,hash_value=\"\"):\n        df = pd.DataFrame()\n        bol_expr1 = self.BR_Cases_By_City[\"city\"] == cities_list[0].decode('utf-8')\n        bol_expr2 = self.BR_Cases_By_City[\"deaths\"]>0\n        bol = bol_expr1 & bol_expr2\n        comp = len(self.BR_Cases_By_City[bol])\n\n        for i in cities_list[1:]:\n            \n            bol_expr1 = self.BR_Cases_By_City[\"city\"].values == i.decode('utf-8')\n            bol = bol_expr1 & bol_expr2\n            lenght = len(self.BR_Cases_By_City[bol])\n            comp = lenght if lenght < comp else comp\n\n        for i in cities_list:\n            \n            bol_expr1 = self.BR_Cases_By_City[\"city\"].values == i.decode('utf-8')\n            bol = bol_expr1 & bol_expr2\n            _temp = self.BR_Cases_By_City[bol].copy()\n            _temp[\"date\"] = range(len(_temp.date))\n            df = df.append(_temp.loc[_temp.index[:comp]])\n\n        pivot = df.pivot('city','date','deaths')\n\n        Figure, Axes = plt.subplots(figsize=(8,8))\n        sns.heatmap(pivot,cmap=\"inferno_r\",fmt=\"\",ax=Axes,annot=True,annot_kws={'rotation':90})\n        Axes.set_xlabel(\"Days Since First Death Case\",fontsize=14)\n        Axes.set_ylabel(\"_\")\n        Axes.tick_params(rotation=0)\n        \n        Figure.tight_layout()\n        Figure.savefig(\"__temp/__custom/hdbc_\"+hash_value+\".png\")\n        \n        del df\n        del lenght\n        del comp\n        del _temp\n        Axes.cla()\n        Figure.clear()\n        plt.close()\n        del pivot"
  },
  {
   "cell_type": "code",
   "execution_count": 16,
   "metadata": {},
   "outputs": [],
   "source": "import import_ipynb\nimport DataLoad as dl"
  },
  {
   "cell_type": "code",
   "execution_count": 17,
   "metadata": {},
   "outputs": [],
   "source": "data = dl.DataLoad()"
  },
  {
   "cell_type": "code",
   "execution_count": 73,
   "metadata": {},
   "outputs": [],
   "source": "dp = DinamicPlots(data)"
  },
  {
   "cell_type": "code",
   "execution_count": 76,
   "metadata": {
    "scrolled": false
   },
   "outputs": [],
   "source": "dp.ComparisonMultipleStatesBar([\"RJ\",\"SP\",\"MG\",\"RS\"],False)"
  },
  {
   "cell_type": "code",
   "execution_count": null,
   "metadata": {},
   "outputs": [],
   "source": ""
  }
 ],
 "metadata": {
  "kernelspec": {
   "display_name": "Python 2",
   "language": "python",
   "name": "python2"
  },
  "language_info": {
   "codemirror_mode": {
    "name": "ipython",
    "version": 2
   },
   "file_extension": ".py",
   "mimetype": "text/x-python",
   "name": "python",
   "nbconvert_exporter": "python",
   "pygments_lexer": "ipython2",
   "version": "2.7.17"
  }
 },
 "nbformat": 4,
 "nbformat_minor": 4
}
