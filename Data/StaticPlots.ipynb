{
 "cells": [
  {
   "cell_type": "code",
   "execution_count": 3,
   "metadata": {},
   "outputs": [],
   "source": "import numpy as np\nimport pandas as pd\nimport seaborn as sns\nfrom pandas.plotting import register_matplotlib_converters\nimport matplotlib.pyplot as plt\nregister_matplotlib_converters()\nplt.style.use('seaborn')"
  },
  {
   "cell_type": "code",
   "execution_count": null,
   "metadata": {},
   "outputs": [],
   "source": "class StaticPlots:\n    \n    BR_Cases_By_State = None\n    BR_Cases_By_City = None\n    BR_Cases_Total = None\n    states = None\n    cities = None\n    \n    def __init__(self,data):\n        \n        self.BR_Cases_By_State = data.BR_Cases_By_State\n        self.BR_Cases_By_City = data.BR_Cases_By_City\n        self.BR_Cases_Total = data.BR_Cases_Total\n        self.states = data.states\n        \n    def TemporalSeries(self, gvalue, gtype='state',hash_value=\"\"):\n        \n        gvalue = gvalue.decode('utf-8')\n        hash_value = hash_value.decode('utf-8')\n        \n        if gtype == 'state':\n            _temp = self.BR_Cases_By_State[self.BR_Cases_By_State[gtype].values == gvalue]\n            path = \"__temp/__fixed/__tss/tss_\"+hash_value+\".png\"\n        else:\n            _temp = self.BR_Cases_By_City[self.BR_Cases_By_City[gtype].values == gvalue]\n            path = \"__temp/__fixed/__tsc/tsc_\"+hash_value+\".png\"\n        \n        Figure, Axes = plt.subplots(figsize=(8,8))\n\n        Axes.plot_date(\"date\",\"totalCases\",data = _temp,linestyle=\"solid\",label=\"Total Cases\",color='red')\n        Axes.plot_date(\"date\",\"deaths\",data=_temp,linestyle=\"solid\", label=\"Total Deaths\",color='purple')\n\n        Axes.set_title(\"Temporal Series - \"+gvalue,fontsize=20)\n        Axes.set_ylabel(\"Number\",labelpad=10,fontsize=14)\n        Axes.set_xlabel(\"Time (Days)\",labelpad=10,fontsize=14)\n        Axes.set_xticklabels(_temp[\"date\"].dt.strftime(\"%d-%m-%Y\"))\n\n        Figure.legend(loc=\"upper left\",bbox_to_anchor=(0.1,0.95),fontsize=12)\n        Figure.autofmt_xdate()\n        Figure.tight_layout()\n\n        Figure.savefig(path)\n\n        del _temp\n        Axes.cla()\n        Figure.clear()\n        plt.close()\n            \n    \n    def totalBarState(self,deaths=False,hash_value=\"\"):\n        \n        hash_value = hash_value.decode('utf-8')\n        _temp = self.BR_Cases_By_State[self.BR_Cases_By_State[\"date\"] == self.BR_Cases_By_State.date.unique()[-1]]\n        \n        if deaths == False:\n            l_values = _temp.totalCases\n            l_index = _temp.state\n            label = \"Total Cases\"\n            title = \"Number of Infecteds by State\"\n            path = \"__temp/__fixed/tibs_\"+hash_value+\".png\"\n        else:\n            l_values = _temp.deaths\n            l_index = _temp.state\n            label = \"Total Deaths\"\n            title = \"Number of Deaths by State\"\n            path = \"__temp/__fixed/tdbs_\"+hash_value+\".png\"\n            \n        df = pd.DataFrame({\"state\":l_index,\"values\":l_values})\n        df.sort_values(\"values\",inplace=True)\n        \n        Figure, Axes = plt.subplots(figsize=(8,8))\n\n        bar = sns.barplot(\"state\",\"values\",data=df,label=label,palette='inferno_r')\n        \n        for i in bar.patches:\n            bar.annotate(str(int(i.get_height())),(i.get_x(),i.get_height()),fontsize=10,ha='left')\n\n        Axes.set_title(title,fontsize=20)\n        Axes.set_ylabel(\"Number\",labelpad=10,fontsize=14)\n        Axes.set_xlabel(\"State\",labelpad=10,fontsize=14)\n\n        Figure.tight_layout()\n        \n        Figure.savefig(path)\n        \n        del l_values\n        del l_index\n        Figure.clear()\n        plt.close()\n        Axes.cla()\n        del bar\n        del _temp\n        del df\n    \n    def totalBarCity(self,state,deaths=False,hash_value=\"\"):\n        _temp = self.BR_Cases_By_City[self.BR_Cases_By_City[\"date\"] == self.BR_Cases_By_State.date.unique()[-1]]\n        _temp = _temp[_temp[\"state\"] == state]\n        _temp = _temp[_temp[\"city\"] != \"INDEFINIDA/\"+state]\n        _temp.sort_values(\"totalCases\",ascending=False,inplace=True)\n        _temp = _temp.loc[_temp.index[:10]]\n        \n        if deaths == False:\n            l_values = _temp.totalCases\n            l_index = _temp.state\n            label = \"Total Cases\"\n            title = \"Most Infecteds Cities of \"+state\n            path = \"__temp/__fixed/tibc_\"+hash_value+\".png\"\n        else:\n            l_values = _temp.deaths\n            l_index = _temp.state\n            label = \"Total Deaths\"\n            title = \"Most Death Cases in Cities of \"+state\n            path = \"__temp/__fixed/tdbc_\"+hash_value+\".png\"\n            \n        l_values = _temp.totalCases\n        l_index = _temp.city\n            \n        df = pd.DataFrame({\"city\":l_index,\"values\":l_values})\n        df.sort_values(\"values\",inplace=True)\n        \n        Figure, Axes = plt.subplots(figsize=(8,8))\n\n        bar = sns.barplot(\"city\",\"values\",data=df,label=label,palette='inferno_r')\n        \n        for i in bar.patches:\n            bar.annotate(str(int(i.get_height())),(i.get_x(),i.get_height()),fontsize=10,ha='left')\n\n        Axes.set_title(title,fontsize=20)\n        Axes.set_ylabel(\"Number\",labelpad=10,fontsize=14)\n        Axes.set_xlabel(\"City\",labelpad=10,fontsize=14)\n        Axes.tick_params('x',rotation=90)\n        \n        Figure.tight_layout()\n        \n        Figure.savefig(path)\n        \n        del l_values\n        del l_index\n        Figure.clear()\n        plt.close()\n        Axes.cla()\n        del bar\n        del _temp\n        del df\n        \n    def PieCasesByState(self):\n        date = self.BR_Cases_By_State.date.unique()[-1]\n        _temp = self.BR_Cases_By_State[data.BR_Cases_By_State['date'] == date].sort_values(\"totalCases\",ascending=False)\n\n        _main = _temp[:5]\n        _others = pd.DataFrame([[None,None,\"Others\",None,None,None,None,sum(_temp[5:][\"totalCases\"]),None,None]],columns=_main.columns)\n        _temp = pd.concat([_main,_others],ignore_index=True)\n\n        colors = ['#FF214B','#FF5745','#FD6865','#FD8978','#FDA978','#DCDCDC']\n        \n        Figure, Axes = plt.subplots(figsize=(8,8))\n        \n        Axes.pie(_temp[\"totalCases\"],labels=_temp[\"state\"], shadow=True,radius=2,autopct='%1.1f%%',colors=colors)\n        Axes.axis('equal')\n\n        Figure.tight_layout()\n        Figure.savefig('__temp/__fixed/pcbs.png')\n\n        del date\n        del _temp\n        del _main\n        del _others\n        del colors\n        Axes.cla()\n        Figure.clear()\n        plt.close()\n        \n#     def MakeStateComparisonGraphs(self):\n#         plt.ioff()\n#         for i in self.states[\"State\"]:\n#             for j in self.states[\"State\"]:\n#                 if i != j:\n#                     self.ComparisonInfectedBarState(i,j,(i+\"_\"+j))\n#                     self.ComparisonDeathsBarState(i,j,(i+\"_\"+j))\n    \n#     def MakeTemporalSeries(self):\n#         plt.ioff()\n#         for i in self.states[\"State\"]:\n#             self.TemporalSeriesState(i,i)\n#             for j in self.cities.loc[i]:\n#                 if j != False:z\n#                     self.TemporalSeriesCity(j,j)\n#                 else: \n#                     break"
  },
  {
   "cell_type": "code",
   "execution_count": 11,
   "metadata": {},
   "outputs": [
    {
     "name": "stdout",
     "output_type": "stream",
     "text": "importing Jupyter notebook from DataLoad.ipynb\n"
    }
   ],
   "source": "import import_ipynb\nimport DataLoad"
  },
  {
   "cell_type": "code",
   "execution_count": 33,
   "metadata": {},
   "outputs": [],
   "source": "data = StaticPlots(DataLoad.DataLoad())"
  },
  {
   "cell_type": "code",
   "execution_count": 35,
   "metadata": {},
   "outputs": [],
   "source": "data.totalInfectedBarCity(\"RJ\",True)"
  },
  {
   "cell_type": "code",
   "execution_count": null,
   "metadata": {},
   "outputs": [],
   "source": ""
  }
 ],
 "metadata": {
  "kernelspec": {
   "display_name": "Python 2",
   "language": "python",
   "name": "python2"
  },
  "language_info": {
   "codemirror_mode": {
    "name": "ipython",
    "version": 2
   },
   "file_extension": ".py",
   "mimetype": "text/x-python",
   "name": "python",
   "nbconvert_exporter": "python",
   "pygments_lexer": "ipython2",
   "version": "2.7.17"
  }
 },
 "nbformat": 4,
 "nbformat_minor": 4
}
