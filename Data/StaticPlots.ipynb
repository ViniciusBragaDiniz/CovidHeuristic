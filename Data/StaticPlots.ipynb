{
 "cells": [
  {
   "cell_type": "code",
   "execution_count": 132,
   "metadata": {},
   "outputs": [],
   "source": "import numpy as np\nimport pandas as pd\nimport seaborn as sns\nfrom pandas.plotting import register_matplotlib_converters\nimport matplotlib.pyplot as plt\nregister_matplotlib_converters()\nplt.style.use('seaborn')"
  },
  {
   "cell_type": "code",
   "execution_count": 182,
   "metadata": {},
   "outputs": [],
   "source": "class StaticPlots:\n    \n    BR_Cases_By_State = None\n    BR_Cases_By_City = None\n    BR_Cases_Total = None\n    states = None\n    cities = None\n    \n    def __init__(self,data):\n        \n        self.BR_Cases_By_State = data.BR_Cases_By_State\n        self.BR_Cases_By_City = data.BR_Cases_By_City\n        self.BR_Cases_Total = data.BR_Cases_Total\n        self.states = data.states\n        self.cities = data.cities\n        \n    def TemporalSeries(self, gvalue, gtype='state',hash_value=\"\"):\n        \n        gvalue = gvalue.decode('utf-8')\n        hash_value = hash_value.decode('utf-8')\n        \n        if gtype == 'state':\n            _temp = self.BR_Cases_By_State[self.BR_Cases_By_State[gtype].values == gvalue]\n            path = \"__temp/__fixed/__tss/tss_\"+hash_value+\".png\"\n        else:\n            _temp = self.BR_Cases_By_City[self.BR_Cases_By_City[gtype].values == gvalue]\n            path = \"__temp/__fixed/__tsc/tsc_\"+hash_value+\".png\"\n        \n        Figure, Axes = plt.subplots(figsize=(8,8))\n\n        Axes.plot_date(\"date\",\"totalCases\",data = _temp,linestyle=\"solid\",label=\"Total Cases\",color='red')\n        Axes.plot_date(\"date\",\"deaths\",data=_temp,linestyle=\"solid\", label=\"Total Deaths\",color='purple')\n\n        Axes.set_title(\"Temporal Series - \"+gvalue,fontsize=20)\n        Axes.set_ylabel(\"Number\",labelpad=10,fontsize=14)\n        Axes.set_xlabel(\"Time (Days)\",labelpad=10,fontsize=14)\n        Axes.set_xticklabels(_temp[\"date\"].dt.strftime(\"%d-%m-%Y\"))\n\n        Figure.legend(loc=\"upper left\",bbox_to_anchor=(0.1,0.95),fontsize=12)\n        Figure.autofmt_xdate()\n        Figure.tight_layout()\n\n        Figure.savefig(path,bbox_inches='tight')\n\n        del _temp\n        Axes.cla()\n        Figure.clear()\n        plt.close()\n            \n    \n    def totalBarState(self,deaths=False,hash_value=\"\"):\n        \n        hash_value = hash_value.decode('utf-8')\n        _temp = self.BR_Cases_By_State[self.BR_Cases_By_State[\"date\"] == self.BR_Cases_By_State.date.unique()[-1]]\n        \n        if deaths == False:\n            l_values = _temp.totalCases\n            l_index = _temp.state\n            label = \"Total Cases\"\n            title = \"Number of Infecteds by State\"\n            path = \"__temp/__fixed/tibs_\"+hash_value+\".png\"\n        else:\n            l_values = _temp.deaths\n            l_index = _temp.state\n            label = \"Total Deaths\"\n            title = \"Number of Deaths by State\"\n            path = \"__temp/__fixed/tdbs_\"+hash_value+\".png\"\n            \n        df = pd.DataFrame({\"state\":l_index,\"values\":l_values})\n        df.sort_values(\"values\",inplace=True)\n        \n        Figure, Axes = plt.subplots(figsize=(8,8))\n\n        bar = sns.barplot(\"state\",\"values\",data=df,label=label,palette='inferno_r')\n        \n        for i in bar.patches:\n            bar.annotate(str(int(i.get_height())),(i.get_x(),i.get_height()),fontsize=10,ha='left')\n\n        Axes.set_title(title,fontsize=20)\n        Axes.set_ylabel(\"Number\",labelpad=10,fontsize=14)\n        Axes.set_xlabel(\"State\",labelpad=10,fontsize=14)\n\n        Figure.tight_layout()\n        \n        Figure.savefig(path,bbox_inches='tight')\n        \n        del l_values\n        del l_index\n        Figure.clear()\n        plt.close()\n        Axes.cla()\n        del bar\n        del _temp\n        del df\n    \n    def totalBarCity(self,state,deaths=False,hash_value=\"\"):\n        _temp = self.BR_Cases_By_City[self.BR_Cases_By_City[\"date\"] == self.BR_Cases_By_State.date.unique()[-1]]\n        _temp = _temp[_temp[\"state\"] == state]\n        _temp = _temp[_temp[\"city\"] != \"INDEFINIDA/\"+state]\n        _temp.sort_values(\"totalCases\",ascending=False,inplace=True)\n        _temp = _temp.loc[_temp.index[:10]]\n        \n        if deaths == False:\n            l_values = _temp.totalCases\n            l_index = _temp.state\n            label = \"Total Cases\"\n            title = \"Most Infecteds Cities of \"+state\n            path = \"__temp/__fixed/tibc_\"+hash_value+\".png\"\n        else:\n            l_values = _temp.deaths\n            l_index = _temp.state\n            label = \"Total Deaths\"\n            title = \"Most Death Cases in Cities of \"+state\n            path = \"__temp/__fixed/tdbc_\"+hash_value+\".png\"\n            \n        l_values = _temp.totalCases\n        l_index = _temp.city\n            \n        df = pd.DataFrame({\"city\":l_index,\"values\":l_values})\n        df.sort_values(\"values\",inplace=True)\n        \n        Figure, Axes = plt.subplots(figsize=(8,8))\n\n        bar = sns.barplot(\"city\",\"values\",data=df,label=label,palette='inferno_r')\n        \n        for i in bar.patches:\n            bar.annotate(str(int(i.get_height())),(i.get_x(),i.get_height()),fontsize=10,ha='left')\n\n        Axes.set_title(title,fontsize=20)\n        Axes.set_ylabel(\"Number\",labelpad=10,fontsize=14)\n        Axes.set_xlabel(\"City\",labelpad=10,fontsize=14)\n        Axes.tick_params('x',rotation=90)\n        \n        Figure.tight_layout()\n        \n        Figure.savefig(path,bbox_inches='tight')\n        \n        del l_values\n        del l_index\n        Figure.clear()\n        plt.close()\n        Axes.cla()\n        del bar\n        del _temp\n        del df\n        \n    def PieInfected(self,gvalue=None,gtype='state',hash_value = \"\"):\n        \n        hash_value = hash_value.decode('utf-8')\n        date = self.BR_Cases_By_City.date.unique()[-1]\n        \n        if gtype == 'state':\n            _temp = self.BR_Cases_By_State[data.BR_Cases_By_State['date'] == date].sort_values(\"totalCases\",ascending=False)\n            _main = _temp[:5]\n            _others = pd.DataFrame([[None,None,\"Others\",None,None,None,None,sum(_temp[5:][\"totalCases\"]),None,None]],columns=_main.columns)\n            path = '__temp/__fixed/pibs.png'\n        \n        else:\n            _temp = self.BR_Cases_By_City[(self.BR_Cases_By_City[\"state\"] == gvalue) & (self.BR_Cases_By_City['date'] == date)].sort_values(\"totalCases\",ascending=False)\n            _main = _temp[:5]\n            _others = pd.DataFrame([[None,None,\"Others\",\"Others\",None,None,None,None,sum(_temp[5:][\"totalCases\"])]],columns=_main.columns)\n            path = '__temp/__fixed/__pibc/pibc_'+hash_value+'.png'\n        \n        _temp = pd.concat([_main,_others],ignore_index=True)\n\n        colors = ['#FF214B','#FF5745','#FD6865','#FD8978','#FDA978','#DCDCDC']\n        \n        Figure, Axes = plt.subplots(figsize=(8,8))\n        \n        Axes.pie(_temp[\"totalCases\"],labels=_temp[gtype], shadow=True,radius=2,autopct='%1.1f%%',colors=colors)\n        Axes.axis('equal')\n\n        Figure.tight_layout()\n        Figure.savefig(path,bbox_inches='tight')\n\n        del date\n        del _temp\n        del _main\n        del _others\n        del colors\n        Axes.cla()\n        Figure.clear()\n        plt.close()\n\n    def PieDeaths(self,gvalue=None,gtype='state',hash_value = \"\"):\n        \n        hash_value = hash_value.decode('utf-8')\n        date = self.BR_Cases_By_City.date.unique()[-1]\n        \n        if gtype == 'state':\n            _temp = self.BR_Cases_By_State[data.BR_Cases_By_State['date'] == date].sort_values(\"deaths\",ascending=False)\n            _main = _temp[:5]\n            _others = pd.DataFrame([[None,\"Brazil\",\"Others\",\"Others\",None,sum(_temp[5:][\"deaths\"]),None,None,None,None]],columns=_main.columns)\n            path = '__temp/__fixed/pdbs.png'\n        \n        else:\n            _temp = self.BR_Cases_By_City[(self.BR_Cases_By_City[\"state\"] == gvalue) & (self.BR_Cases_By_City['date'] == date)].sort_values(\"deaths\",ascending=False)\n            _main = _temp[:5]\n            _others = pd.DataFrame([[date,\"Brazil\",None,None,None,0,sum(_temp[5:][\"deaths\"]),None,None]],columns=_main.columns)\n            path = '__temp/__fixed/__pdbc/pdbc_'+hash_value+'.png'\n        \n        _temp = pd.concat([_main,_others],ignore_index=True)\n\n        colors = ['#FF214B','#FF5745','#FD6865','#FD8978','#FDA978','#DCDCDC']\n        \n        Figure, Axes = plt.subplots(figsize=(8,8))\n        \n        Axes.pie(_temp[\"deaths\"],labels=_temp[gtype], shadow=True,radius=2,autopct='%1.1f%%',colors=colors)\n        Axes.axis('equal')\n\n        Figure.tight_layout()\n        Figure.savefig(path,bbox_inches='tight')\n\n        del date\n        del _temp\n        del _main\n        del _others\n        del colors\n        Axes.cla()\n        Figure.clear()\n        plt.close()\n        \n    \n    def PieRegion(self,deaths=False):\n    \n        if deaths == False:\n            gtype = \"totalCases\"\n            path = \"__temp/__fixed/pibr.png\"\n        else:\n            gtype = \"deaths\"\n            path = \"__temp/__fixed/pdbr.png\"\n            \n        reg = {'Norte':[\"AM\",\"RR\",\"AP\",\"PA\",\"TO\",\"RO\",\"AC\"],\n        'Nordeste':[\"MA\",\"PI\",\"CE\",\"RN\",\"PE\",\"PB\",\"SE\",\"AL\",\"BA\"],\n        'Centro-Oeste':[\"MT\",\"MS\",\"GO\"],\n        'Sudeste':[\"RJ\",\"SP\",\"MG\",\"ES\"],\n        'Sul':[\"PR\",\"RS\",\"SC\"]}\n        total = {'Norte':0,'Nordeste':0,'Centro-Oeste':0,'Sudeste':0,'Sul':0}\n\n        date = self.BR_Cases_By_State.date.unique()[-1]\n\n        _temp = self.BR_Cases_By_State[data.BR_Cases_By_State.date == date]\n\n        for i in reg.keys():\n            for j in reg[i]:\n                total[i] += _temp[_temp['state']==j][gtype].values[0]\n\n        _temp = pd.DataFrame(total.values(),total.keys(),[gtype])\n\n        colors = ['#00FA9A','#FD6865','#40E0D0','#DA70D6','#FDA978']\n\n        Figure, Axes = plt.subplots(figsize=(8,8))\n\n        Axes.pie(_temp[gtype],labels=_temp.index, shadow=True,radius=2,autopct='%1.1f%%',colors=colors)\n        Axes.axis('equal')\n\n        Figure.tight_layout()\n        Figure.savefig(path,bbox_inches='tight')\n\n        del _temp\n        del colors\n        del reg\n        del total\n        del path\n        del gtype\n        Axes.cla()\n        Figure.clear()\n        plt.close()\n\n    def MakeTemporalSeries(self):\n        plt.ioff()\n        for i in self.states[\"State\"]:\n            self.TemporalSeries(i,'state',i)\n            for j in self.cities.loc[i]:\n                if j != False:\n                    self.TemporalSeries(j.encode('utf-8'),'city',j.encode('utf-8'))\n                else: \n                    break"
  },
  {
   "cell_type": "code",
   "execution_count": 183,
   "metadata": {},
   "outputs": [],
   "source": "import import_ipynb\nimport DataLoad as dl"
  },
  {
   "cell_type": "code",
   "execution_count": 184,
   "metadata": {},
   "outputs": [],
   "source": "data = StaticPlots(dl.DataLoad())"
  },
  {
   "cell_type": "code",
   "execution_count": 185,
   "metadata": {},
   "outputs": [],
   "source": "data.PieDeaths()"
  },
  {
   "cell_type": "code",
   "execution_count": null,
   "metadata": {},
   "outputs": [],
   "source": ""
  }
 ],
 "metadata": {
  "kernelspec": {
   "display_name": "Python 2",
   "language": "python",
   "name": "python2"
  },
  "language_info": {
   "codemirror_mode": {
    "name": "ipython",
    "version": 2
   },
   "file_extension": ".py",
   "mimetype": "text/x-python",
   "name": "python",
   "nbconvert_exporter": "python",
   "pygments_lexer": "ipython2",
   "version": "2.7.17"
  }
 },
 "nbformat": 4,
 "nbformat_minor": 4
}
