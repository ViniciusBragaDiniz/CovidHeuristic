{
 "cells": [
  {
   "cell_type": "code",
   "execution_count": 1,
   "metadata": {},
   "outputs": [],
   "source": "import pandas as pd"
  },
  {
   "cell_type": "code",
   "execution_count": 17,
   "metadata": {},
   "outputs": [],
   "source": "class DataLoad:\n    \n    Skip_Rows_City_Time = 0\n    Ski_Rows_State = 0\n    BR_Cases_By_State = None\n    BR_Cases_By_City = None\n    BR_Cases_Total = None\n    DemographicData = {}\n    states = pd.read_csv(\"BR_States.csv\",index_col=0)\n    cities = pd.read_csv(\"BR_Cities_By_State.csv\",encoding='utf-8',index_col=0).fillna(False)\n    \n    def __init__(self):\n        #Imports the information from the .csv file\n        df = pd.read_csv(\"https://raw.githubusercontent.com/wcota/covid19br/master/cases-brazil-cities-time.csv\",\n                         encoding=\"utf-8\", parse_dates=['date'])\n        df[\"city\"] = df[\"city\"].str.split(\"/\").str.get(0)+\"-\"+df[\"city\"].str.split(\"/\").str.get(1)\n       \n        df2 = pd.read_csv(\"https://raw.githubusercontent.com/wcota/covid19br/master/cases-brazil-states.csv\",\n                         encoding=\"utf-8\", parse_dates=['date'])\n        df2[\"city\"] = df2[\"city\"].str.split(\"/\").str.get(0)+\"-\"+df2[\"city\"].str.split(\"/\").str.get(1)\n       \n        #Saves the number of rows that are in memory\n        self.Skip_Rows_City_Time = len(df.index)\n        self.Ski_Rows_State = len(df2.index)\n        \n        #Makes hard copies from the temporary DataFrame\n        self.BR_Cases_Total = df[df[\"state\"] == \"TOTAL\"].copy()\n        self.BR_Cases_By_City = df[df[\"state\"] != \"TOTAL\"].copy()\n        self.BR_Cases_By_State = df2[df2[\"state\"] != \"TOTAL\"].copy()\n        \n        #Reindex the DataFrames\n        self.BR_Cases_By_City.index = range(len(self.BR_Cases_By_City))\n        self.BR_Cases_Total.index = range(len(self.BR_Cases_Total))\n        self.BR_Cases_By_State.index = range(len(self.BR_Cases_By_State.index))\n        \n        for i in self.states[\"State\"]:\n            self.DemographicData[i]=pd.DataFrame(\n                pd.read_csv(\"Instances/DemographicData/\"+i+\"DemographicData.csv\",\n                encoding=\"utf-8\",index_col=0,dtype={\"City\":str,\"Population\":float,\"Area\":float,\"Density\":float}))\n        \n        self.DemographicData[\"BR\"] = pd.read_csv(\"Instances/DemographicData/BRDemographicData.csv\",\n                                    encoding=\"utf-8\",index_col=0,dtype={\"State\":str,\"Population\":float,\n                                                                       \"Area\":float, \"Density\":float})\n        \n        del df\n        del df2\n        \n    \n    def __update__(self):\n        #Import the informatiof from the .csv file, skiping\n        #the rows that are already in memory\n        df = pd.read_csv(\"https://raw.githubusercontent.com/wcota/covid19br/master/cases-brazil-cities-time.csv\",\n                         encoding=\"utf8\",skiprows=range(1,self.Skip_Rows_City_Time), parse_dates=['date'])\n        df[\"city\"] = df[\"city\"].str.split(\"/\").str.get(0)+\"-\"+df[\"city\"].str.split(\"/\").str.get(1)\n        df2 = pd.read_csv(\"https://raw.githubusercontent.com/wcota/covid19br/master/cases-brazil-states.csv\",\n                         encoding=\"utf-8\", skiprows=range(1,self.Ski_Rows_State), parse_dates=['date'])\n        df2[\"city\"] = df2[\"city\"].str.split(\"/\").str.get(0)+\"-\"+df2[\"city\"].str.split(\"/\").str.get(1)\n        #Updates the number of rows\n        self.Skip_Rows_City_Time += len(df.index)\n        self.Ski_Rows_State += len(df2.index)\n        \n        #Concatenates the new data to the dataframe\n        self.BR_Cases_By_City = pd.concat([self.BR_Cases_Total,df[df[\"state\"]!=\"TOTAL\"]],ignore_index=True)\n        self.BR_Cases_Total = pd.concat([self.BR_Cases_Total,df[df[\"state\"]==\"TOTAL\"]],ignore_index=True)\n        self.BR_Cases_By_State = pd.concat([self.BR_Cases_By_State,df2[df2[\"state\"]!= \"TOTAL\"]],ignore_index=True)\n        \n        del df\n        del df2\n    \n    def getDemographicDataValue(self,state,city,value):\n        return self.DemographicData[state][self.DemographicData[state][\"City\"].values == city][value].values[0]\n    \n    def getStateDemographicDataValue(self,state,value):\n        return self.DemographicData[\"BR\"].loc[state][value]"
  }
 ],
 "metadata": {
  "kernelspec": {
   "display_name": "Python 2",
   "language": "python",
   "name": "python2"
  },
  "language_info": {
   "codemirror_mode": {
    "name": "ipython",
    "version": 2
   },
   "file_extension": ".py",
   "mimetype": "text/x-python",
   "name": "python",
   "nbconvert_exporter": "python",
   "pygments_lexer": "ipython2",
   "version": "2.7.17"
  }
 },
 "nbformat": 4,
 "nbformat_minor": 4
}
